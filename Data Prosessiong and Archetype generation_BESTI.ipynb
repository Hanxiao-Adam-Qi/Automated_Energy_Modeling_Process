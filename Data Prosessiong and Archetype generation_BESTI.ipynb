{
 "cells": [
  {
   "cell_type": "code",
   "execution_count": 1,
   "id": "285d87dc-19de-4548-99c9-7dbd822574fd",
   "metadata": {},
   "outputs": [],
   "source": [
    "import pandas as pd\n",
    "import numpy as np\n",
    "import os\n",
    "from Functions import matching_check"
   ]
  },
  {
   "cell_type": "markdown",
   "id": "5e25183a-6a36-404b-aae2-4325ca46c232",
   "metadata": {
    "tags": []
   },
   "source": [
    "## Loading files and Pre processing"
   ]
  },
  {
   "cell_type": "code",
   "execution_count": 2,
   "id": "bc10bd84-7b3e-4a77-9055-658e3f1689c8",
   "metadata": {},
   "outputs": [],
   "source": [
    "# read files\n",
    "FA = pd.read_csv('betsi_origin/FA.csv', sep=';' ,encoding='iso-8859-1', decimal=',')\n",
    "FB_Klimat = pd.read_csv('betsi_origin/FB_Klimat.csv',sep=';' ,encoding='iso-8859-1', decimal=',').drop(columns=['Hustyp'])\n",
    "year = pd.read_csv('betsi_origin/Byggår.csv', encoding='iso-8859-1')\n",
    "FB49_YTTERVAGG = pd.read_csv('betsi_origin/FB49 Ytterv„gg.csv', sep=';', encoding='iso-8859-1', decimal=',')\n",
    "FB52_YTTERVAGG = pd.read_csv('betsi_origin/FB52 Ytterv„gg.csv', sep=';', encoding='iso-8859-1', decimal=',')"
   ]
  },
  {
   "cell_type": "code",
   "execution_count": null,
   "id": "67d5a3b2-140f-4304-986d-d4ba1ebddb00",
   "metadata": {},
   "outputs": [],
   "source": [
    "# concat several features\n",
    "F = pd.concat([FA, FB_Klimat],axis=1, join='inner')\n",
    "\n",
    "# Delete unrealistic values\n",
    "F = F[(F['FB52 U-medelvärde ytterväggar']>=0.1) & (F['FB87-97 U-medelvärde fönster']>0)]\n",
    "F.loc[:, 'FXByggår'] = year['FXByggÃ¥r']\n",
    "\n",
    "# select muilti-family buildings\n",
    "F = F[F['Hustyp']=='F']\n",
    "\n",
    "# Insert classification column\n",
    "F.insert(loc=0, column='Year', value=0)\n",
    "F.insert(loc=1, column='Classification', value=0)"
   ]
  },
  {
   "cell_type": "code",
   "execution_count": null,
   "id": "02ca2391-4ee5-4a9e-a064-9a41b35eb050",
   "metadata": {},
   "outputs": [],
   "source": [
    "# create varant names for separation \n",
    "classification = []\n",
    "for i in ['F_60', 'F_61_75', 'F_76_85', 'F_86_95', 'F_96_05']:\n",
    "    for j in ['Lamellhus', 'Skivhus', 'Punkthus', 'Loftgångshus', 'Flerbostadsvilla', 'AnnanVilken', 'Radhus']:\n",
    "        # print(\"{}_{} = {}[{}['FA11Byggnadstyp']=='{}']\".format(i, j, i, i, j))\n",
    "        classification.append('{}_{}'.format(i, j)) # lack of F_76_85_Sutteränghus(but after value check there's no)\n",
    "        # print('{}_{}'.format(i, j))  "
   ]
  },
  {
   "cell_type": "code",
   "execution_count": null,
   "id": "39a15c37-cdae-47c3-8739-5348dfafc389",
   "metadata": {},
   "outputs": [],
   "source": [
    "# devide data into several decades\n",
    "F_60 = F[F['FXByggår']<=1960]\n",
    "F_61_75 = F[(F['FXByggår']>=1961) & (F['FXByggår'] <= 1975)]\n",
    "F_76_85 = F[(F['FXByggår']>=1976) & (F['FXByggår'] <= 1985)]\n",
    "F_86_95 = F[(F['FXByggår']>=1986) & (F['FXByggår'] <= 1995)]\n",
    "F_96_05 = F[(F['FXByggår']>=1996) & (F['FXByggår'] <= 2005)]\n",
    "check = pd.concat([F_60, F_61_75, F_76_85, F_86_95, F_96_05])\n",
    "# pd.set_option('display.max_rows', None)\n",
    "U_wall = []\n",
    "U_win = []"
   ]
  },
  {
   "cell_type": "code",
   "execution_count": null,
   "id": "7701d3ec-93b4-49b1-8bb5-ed5fe8bcb710",
   "metadata": {},
   "outputs": [],
   "source": [
    "# for i in classification:\n",
    "#     print(\"U_wall.append({}['FB52 U-medelvärde ytterväggar'].mean())\".format(i))\n",
    "#     print(\"U_win.append({}['FB87-97 U-medelvärde fönster'].mean())\".format(i))\n"
   ]
  },
  {
   "cell_type": "code",
   "execution_count": null,
   "id": "8bd62d7a-60ff-41c7-809c-27301b4200dc",
   "metadata": {},
   "outputs": [],
   "source": [
    "F_60.loc[:, 'Year'] = 'F_60'\n",
    "F_61_75.loc[:, 'Year'] = 'F_61_75'\n",
    "F_76_85.loc[:, 'Year'] = 'F_76_85'\n",
    "F_86_95.loc[:, 'Year'] = 'F_86_95'\n",
    "F_96_05.loc[:, 'Year'] = 'F_96_05'\n",
    "F = pd.concat([F_60, F_61_75, F_76_85, F_86_95, F_96_05])"
   ]
  },
  {
   "cell_type": "code",
   "execution_count": null,
   "id": "39cdbc85-931b-4b02-85e2-40e5e7ac2e63",
   "metadata": {},
   "outputs": [],
   "source": [
    "# F.insert(loc=1, column='Classification')\n",
    "F.loc[:, 'Classification'] = F['Year'].values +'_'+F['FA11Byggnadstyp'].values\n",
    "F"
   ]
  },
  {
   "cell_type": "markdown",
   "id": "5a535048-974b-4260-8b8f-b70f3421e2f0",
   "metadata": {},
   "source": [
    "### Agregated by years"
   ]
  },
  {
   "cell_type": "code",
   "execution_count": null,
   "id": "94f48c7e-06cc-48c3-b50a-382cf2ef1424",
   "metadata": {},
   "outputs": [],
   "source": [
    "F = F.T.drop_duplicates().T\n",
    "F.loc[:, 'Classification'] = list(F['Year'])\n",
    "F"
   ]
  },
  {
   "cell_type": "markdown",
   "id": "707c5eb5-90f5-4e95-aa6b-c59414247d10",
   "metadata": {},
   "source": [
    "### All for one"
   ]
  },
  {
   "cell_type": "code",
   "execution_count": null,
   "id": "3066b8d0-6322-4481-a8f2-a99ac4d867c6",
   "metadata": {},
   "outputs": [],
   "source": [
    "F.loc[:, 'Classification'] = 'BESTI'"
   ]
  },
  {
   "cell_type": "markdown",
   "id": "f2a117f2-b8c3-41b0-8114-979b2cb50350",
   "metadata": {
    "jp-MarkdownHeadingCollapsed": true,
    "tags": []
   },
   "source": [
    "## Calculation of U-value Roof (incl. cold bridge)"
   ]
  },
  {
   "cell_type": "code",
   "execution_count": null,
   "id": "b81cdbd5-9686-4a1d-81a0-59bd141b24ec",
   "metadata": {},
   "outputs": [],
   "source": [
    "# Roof U-values\n",
    "roof = F[['Year', \n",
    "          'Classification', \n",
    "          'Byggnad', \n",
    "          'F14ATempt', \n",
    "          'FA16AntalPlanOvanMark',\n",
    "          'FB56 Area horisontell vindsbjälklag m2',\n",
    "          'FB56 U-värde vindsbjälklag',\n",
    "          'FB56 UA-värde horizontellt vindsbjälklag',\n",
    "          'FB56 UA-värde horizontellt vindsbjälklag inkl köldbryggor',\n",
    "          'FB58 Area stödbensväggar',\n",
    "          'FB59 U-värde stödbensväggar',\n",
    "          'FB58 UA-värde stödbensväggar',\n",
    "          'FB58 UA-värde stödbensväggar inkl köldbryggor',\n",
    "          'FB61 Area snedtak',\n",
    "          'FB62 U-värde snedtak',\n",
    "          'FB62 UA-värde snedtak',\n",
    "          'FB62 UA-värde snedtak inkl köldbryggor']]\n",
    "\n",
    "# drop wrong conditions\n",
    "roof = roof.drop(roof[roof['FB56 Area horisontell vindsbjälklag m2'].notnull() & \n",
    "                  ((roof['FB56 U-värde vindsbjälklag'].isnull()) | \n",
    "                   ((roof['FB56 U-värde vindsbjälklag'] == 0)))].index)\n",
    "\n",
    "roof = roof.drop(roof[roof['FB58 Area stödbensväggar'].notnull() & \n",
    "                  ((roof['FB59 U-värde stödbensväggar'].isnull()) | \n",
    "                   ((roof['FB59 U-värde stödbensväggar'] == 0)))].index)\n",
    "\n",
    "roof = roof.drop(roof[roof['FB61 Area snedtak'].notnull() & \n",
    "                  ((roof['FB62 U-värde snedtak'].isnull()) | \n",
    "                   ((roof['FB62 U-värde snedtak'] == 0)))].index)\n",
    "\n",
    "roof = roof.drop(roof[roof['FB61 Area snedtak'].isnull() & \n",
    "                 roof['FB56 Area horisontell vindsbjälklag m2'].isnull() &\n",
    "                 roof['FB61 Area snedtak'].isnull()].index)\n",
    "\n",
    "roof = roof.replace(np.nan, 0)"
   ]
  },
  {
   "cell_type": "code",
   "execution_count": null,
   "id": "3183a912-0030-4475-a7d4-b2791d08a0ac",
   "metadata": {},
   "outputs": [],
   "source": [
    "# calculate average U-roof and Area of roof\n",
    "Uroof = []\n",
    "Aroof = []\n",
    "for i in range(len(list(roof['Year']))):\n",
    "    fv = 0\n",
    "    fst = 0\n",
    "    fsn = 0\n",
    "    \n",
    "    if roof['FB56 UA-värde horizontellt vindsbjälklag'].iloc[i] != 0:\n",
    "        fv = roof['FB56 UA-värde horizontellt vindsbjälklag inkl köldbryggor'].iloc[i]/roof['FB56 UA-värde horizontellt vindsbjälklag'].iloc[i]\n",
    "    if roof['FB58 UA-värde stödbensväggar'].iloc[i] != 0:\n",
    "        fst = roof['FB58 UA-värde stödbensväggar inkl köldbryggor'].iloc[i]/roof['FB58 UA-värde stödbensväggar'].iloc[i]\n",
    "    if roof['FB62 UA-värde snedtak'].iloc[i] != 0:\n",
    "        fsn = roof['FB62 UA-värde snedtak inkl köldbryggor'].iloc[i]/roof['FB62 UA-värde snedtak'].iloc[i]\n",
    "    \n",
    "    Uaf = (\n",
    "        ((roof['FB56 U-värde vindsbjälklag'].iloc[i] * fv * roof['FB56 Area horisontell vindsbjälklag m2'].iloc[i]) + \n",
    "        (roof['FB59 U-värde stödbensväggar'].iloc[i] * fst * roof['FB58 Area stödbensväggar'].iloc[i]) +\n",
    "        (roof['FB62 U-värde snedtak'].iloc[i] * fsn * roof['FB61 Area snedtak'].iloc[i]))/\n",
    "        (roof['FB56 Area horisontell vindsbjälklag m2'].iloc[i] + roof['FB58 Area stödbensväggar'].iloc[i] + roof['FB61 Area snedtak'].iloc[i])\n",
    "    )\n",
    "    \n",
    "    Uroof.append(Uaf)\n",
    "    Aroof.append(roof['FB56 Area horisontell vindsbjälklag m2'].iloc[i] + roof['FB58 Area stödbensväggar'].iloc[i] + roof['FB61 Area snedtak'].iloc[i])\n",
    "    \n",
    "roof['U_roof'] = Uroof\n",
    "roof['A_roof'] = Aroof"
   ]
  },
  {
   "cell_type": "code",
   "execution_count": null,
   "id": "b3873d4f-5451-47f4-97f0-1a6abe8efac6",
   "metadata": {},
   "outputs": [],
   "source": [
    "# delete unrealistic vlaues of roof\n",
    "roof = roof[(roof['U_roof']>=0.1) &\n",
    "             (roof['U_roof']<=2)]"
   ]
  },
  {
   "cell_type": "code",
   "execution_count": null,
   "id": "dbcc7101-231f-4a7d-8dc7-57be9d41cc69",
   "metadata": {},
   "outputs": [],
   "source": [
    "# transfer data to archetypes\n",
    "Arche_roof = roof.groupby('Classification').agg({'U_roof':'mean',\n",
    "                                    'A_roof':'mean'})"
   ]
  },
  {
   "cell_type": "markdown",
   "id": "ab234f08-3119-484d-9698-24a61b249ded",
   "metadata": {
    "jp-MarkdownHeadingCollapsed": true,
    "tags": []
   },
   "source": [
    "## Calculation of WWR"
   ]
  },
  {
   "cell_type": "code",
   "execution_count": null,
   "id": "5d0bfb7e-f45b-4db2-ba22-92a09d0eb7af",
   "metadata": {},
   "outputs": [],
   "source": [
    "F.loc[:, 'FB88 Summa fönsterarea N'].replace(0, np.nan)\n",
    "F.loc[:, 'FB91 Summa fönsterarea S'].replace(0, np.nan)\n",
    "F.loc[:, 'FB94 Summa fönsterarea V'].replace(0, np.nan)\n",
    "F.loc[:, 'FB97 Summa fönsterarea O'].replace(0, np.nan)\n",
    "F_wwr = F"
   ]
  },
  {
   "cell_type": "code",
   "execution_count": null,
   "id": "868adf83-7424-4d33-9d34-942d05b5b46f",
   "metadata": {},
   "outputs": [],
   "source": [
    "F_wwr = F_wwr.drop(F_wwr[(F_wwr['FB48 Ytterväggsarea N']==0)|\n",
    "                        (F_wwr['FB48 Ytterväggsarea S']==0)|\n",
    "                        (F_wwr['FB48 Ytterväggsarea V']==0)|\n",
    "                        (F_wwr['FB48 Ytterväggsarea O']==0)].index)\n",
    "F_wwr"
   ]
  },
  {
   "cell_type": "code",
   "execution_count": null,
   "id": "0e837760-598f-4054-b5f7-e837cc247902",
   "metadata": {},
   "outputs": [],
   "source": [
    "wwr_N = F_wwr['FB88 Summa fönsterarea N'] / F_wwr['FB48 Ytterväggsarea N']\n",
    "wwr_S = F_wwr['FB91 Summa fönsterarea S'] / F_wwr['FB48 Ytterväggsarea S']\n",
    "wwr_V = F_wwr['FB94 Summa fönsterarea V'] / F_wwr['FB48 Ytterväggsarea V']\n",
    "wwr_O = F_wwr['FB97 Summa fönsterarea O'] / F_wwr['FB48 Ytterväggsarea O']\n",
    "WWR = F_wwr[['Year', 'Classification', 'Byggnad']]\n",
    "WWR.loc[:, 'WWR_N'] = list(wwr_N)\n",
    "WWR.loc[:, 'WWR_S'] = list(wwr_S)\n",
    "WWR.loc[:, 'WWR_V'] = list(wwr_V)\n",
    "WWR.loc[:, 'WWR_O'] = list(wwr_O)\n",
    "Arche_WWR = WWR.groupby('Classification').agg({'WWR_N' : 'mean', \n",
    "                                 'WWR_S' : 'mean', \n",
    "                                 'WWR_V' : 'mean', \n",
    "                                 'WWR_O' : 'mean'})"
   ]
  },
  {
   "cell_type": "markdown",
   "id": "5b47b5ef-3030-45ca-8dc8-911bb52ceb5f",
   "metadata": {
    "jp-MarkdownHeadingCollapsed": true,
    "tags": []
   },
   "source": [
    "## Calculation of U-value window"
   ]
  },
  {
   "cell_type": "code",
   "execution_count": null,
   "id": "2c92a3ef-a174-450c-8a31-6ceee769b40d",
   "metadata": {},
   "outputs": [],
   "source": [
    "F_window = F.drop(F[F['FB87-97 U-medelvärde fönster'] == 0].index)\n",
    "Arche_window = F_window.groupby('Classification').agg({'FB87-97 U-medelvärde fönster' : 'mean'})\n",
    "Arche_window = Arche_window.rename(columns={'FB87-97 U-medelvärde fönster':'U_widnows'})"
   ]
  },
  {
   "cell_type": "markdown",
   "id": "cdbdba53-7b4b-42d3-a84a-e19202c1b6c9",
   "metadata": {
    "jp-MarkdownHeadingCollapsed": true,
    "tags": []
   },
   "source": [
    "## Calculation of U-exterior wall"
   ]
  },
  {
   "cell_type": "code",
   "execution_count": null,
   "id": "0995bdcc-e77b-498f-9ad7-e2b5bba34701",
   "metadata": {},
   "outputs": [],
   "source": [
    "F_wall = F\n",
    "Arche_wall = F_wall.groupby('Classification').agg({'FB52 U-medelvärde ytterväggar' : 'mean'})\n",
    "Arche_wall = Arche_wall.rename(columns={'FB52 U-medelvärde ytterväggar':'U-wall'})"
   ]
  },
  {
   "cell_type": "markdown",
   "id": "3039ad28-95bc-47c6-8be7-9a235c6477a6",
   "metadata": {
    "jp-MarkdownHeadingCollapsed": true,
    "tags": []
   },
   "source": [
    "## Calculation of U-ground"
   ]
  },
  {
   "cell_type": "code",
   "execution_count": null,
   "id": "1b1533d7-e6b6-4bfa-af60-76b0999059b4",
   "metadata": {},
   "outputs": [],
   "source": [
    "# Priority: U crawl space > U basement\n",
    "F_ground1 = F[['FB33 U-värde platta på mark/källargolv', \n",
    "              'FB41 U-värde bjälklag ovan ouppvärmd källare',\n",
    "              'FB30 U-värde bjälklag ovan krypgrund',\n",
    "               'Classification']]\n",
    "\n",
    "F_ground1 = F_ground1.drop(F_ground1[(F_ground1.iloc[:,0].isnull()) & \n",
    "                        (F_ground1.iloc[:,1].isnull()) &\n",
    "                        (F_ground1.iloc[:,2].isnull())].index)\n",
    "    \n",
    "F_ground = pd.DataFrame(F_ground1[['FB33 U-värde platta på mark/källargolv', 'Classification']])\n",
    "for i in range(len(list(F_ground1['FB33 U-värde platta på mark/källargolv']))):\n",
    "    if pd.notnull(F_ground1.iloc[i,1])==True:\n",
    "        F_ground.iloc[i, 0] = F_ground1.iloc[i,1]\n",
    "    if pd.notnull(F_ground1.iloc[i, 2])==True:\n",
    "        F_ground.iloc[i, 0] = F_ground1.iloc[i,2]\n",
    "\n",
    "Arche_ground = F_ground.groupby('Classification').agg({'FB33 U-värde platta på mark/källargolv' : 'mean'})\n",
    "Arche_ground = Arche_ground.rename(columns={'FB33 U-värde platta på mark/källargolv':'U-ground'})"
   ]
  },
  {
   "cell_type": "markdown",
   "id": "7335ca94-e89d-481a-aff4-a5fe1af8e518",
   "metadata": {
    "jp-MarkdownHeadingCollapsed": true,
    "tags": []
   },
   "source": [
    "## Calculation of floor height"
   ]
  },
  {
   "cell_type": "code",
   "execution_count": null,
   "id": "81e363e2-e131-47a5-be29-144f5cb5d11b",
   "metadata": {},
   "outputs": [],
   "source": [
    "F_floor_basement = F[['FA19Kallare', 'Classification']].drop(F[F['FA19Kallare'] > 3.5].index)\n",
    "F_floor_ground = F[['FA19Bottenvaning', 'Classification']].drop(F[F['FA19Bottenvaning'] > 3.5].index)\n",
    "F_floor_typical = F[['FA19Vaningsplan', 'Classification']].drop(F[F['FA19Vaningsplan'] > 3.5].index)\n",
    "F_floor_actic = F[['FA19InreddVind', 'Classification']].drop(F[F['FA19InreddVind'] > 3.5].index)\n",
    "\n",
    "# Nan value ingored by mean \n",
    "Arche_floor = pd.concat([F_floor_basement.groupby('Classification').agg({'FA19Kallare':'mean'}), \n",
    "                        F_floor_ground.groupby('Classification').agg({'FA19Bottenvaning':'mean'}),\n",
    "                        F_floor_typical.groupby('Classification').agg({'FA19Vaningsplan':'mean'}),\n",
    "                        F_floor_actic.groupby('Classification').agg({'FA19InreddVind':'mean'})], axis=1)\n",
    "\n",
    "Arche_floor = Arche_floor.rename(columns=({'FA19Kallare':'Floor height_Basement', \n",
    "                            'FA19Bottenvaning':'Floor height_Ground', \n",
    "                            'FA19Vaningsplan':'Floor height_Typical',\n",
    "                            'FA19InreddVind':'Floor height_Acttic'}))\n",
    "\n",
    "Arche_floor.loc[:, 'Average floor height'] = Arche_floor.mean(axis=1)\n",
    "Arche_floor"
   ]
  },
  {
   "cell_type": "markdown",
   "id": "111377d9-d078-4648-906c-0cc0521b9b17",
   "metadata": {
    "tags": []
   },
   "source": [
    "## Crawl space and Basement check"
   ]
  },
  {
   "cell_type": "code",
   "execution_count": null,
   "id": "32434ca5-d29c-4576-923d-97befc93f15e",
   "metadata": {},
   "outputs": [],
   "source": [
    "if_crwal = F[['Classification', 'FB10 Krypgrund/bjälklag ovan krypgrund']]\n",
    "if_basement = F[['Classification', 'FB40 Källare', 'FB41 Källare uppvärmd']]\n",
    "# list(if_basement['FB40 Källare']).count('Ja')\n",
    "\n",
    "# ratio of having crawl space\n",
    "ratio_crawl = []\n",
    "for i in range(len(list(if_crwal.groupby('Classification')))):\n",
    "    ja = list(list(if_crwal.groupby('Classification'))[i][1]['FB10 Krypgrund/bjälklag ovan krypgrund']).count('Ja')\n",
    "    r = ja/(len(list(if_crwal.groupby('Classification'))[i][1]))\n",
    "    ratio_crawl.append(r)\n",
    "\n",
    "ratio_base = []\n",
    "# ratio of having crawl space\n",
    "for i in range(len(list(if_basement.groupby('Classification')))):\n",
    "    ja1 = list(list(if_basement.groupby('Classification'))[i][1]['FB40 Källare']).count('Ja')\n",
    "    r1 = ja1/(len(list(if_basement.groupby('Classification'))[i][1]))\n",
    "    ratio_base.append(r1)"
   ]
  },
  {
   "cell_type": "code",
   "execution_count": null,
   "id": "925a0948-bd66-4b86-bc35-b63f925601b4",
   "metadata": {},
   "outputs": [],
   "source": [
    "# Archetype information for crawl space\n",
    "Arche_crawl = pd.DataFrame(if_crwal.groupby('Classification').agg({'FB10 Krypgrund/bjälklag ovan krypgrund':';'.join}).loc[:, 'FB10 Krypgrund/bjälklag ovan krypgrund'])\n",
    "Arche_crawl.iloc[:, 0] = ratio_crawl\n",
    "Arche_crawl = Arche_crawl.rename(columns={'FB10 Krypgrund/bjälklag ovan krypgrund': 'Ratio of Crawl Space'})"
   ]
  },
  {
   "cell_type": "code",
   "execution_count": null,
   "id": "9ca33c76-1df7-4165-927b-3b6adafd0d32",
   "metadata": {},
   "outputs": [],
   "source": [
    "# Archetype information for basement\n",
    "Arche_basement = pd.DataFrame(if_crwal.groupby('Classification').agg({'FB10 Krypgrund/bjälklag ovan krypgrund':';'.join}).loc[:, 'FB10 Krypgrund/bjälklag ovan krypgrund'])\n",
    "Arche_basement.iloc[:, 0] = ratio_base\n",
    "Arche_basement.loc[:, 'Uwall_base_under ground'] = F.groupby('Classification').agg({'FB47 U-värde källarvägg under mark':'mean'})\n",
    "Arche_basement.loc[:, 'Uwall_base_above ground'] = F.groupby('Classification').agg({'FB47 U-värde källarvägg ovan mark':'mean'})\n",
    "\n",
    "Arche_basement = Arche_basement.rename(columns={'FB10 Krypgrund/bjälklag ovan krypgrund': 'Ratio of Basement'})"
   ]
  },
  {
   "cell_type": "markdown",
   "id": "1d446e86-de4b-4d1a-9900-961cf0e61d81",
   "metadata": {
    "tags": []
   },
   "source": [
    "## Archetypes Combination"
   ]
  },
  {
   "cell_type": "code",
   "execution_count": null,
   "id": "96c41e09-019b-4159-8ad9-9b39904f63e6",
   "metadata": {},
   "outputs": [],
   "source": [
    "Arche = []\n",
    "Arche = pd.concat([Arche_wall, \n",
    "                   Arche_window, \n",
    "                   Arche_ground, \n",
    "                   Arche_roof, \n",
    "                   Arche_WWR, \n",
    "                   Arche_floor,\n",
    "                   Arche_crawl,\n",
    "                   Arche_basement],axis=1)\n",
    "Arche"
   ]
  },
  {
   "cell_type": "code",
   "execution_count": null,
   "id": "7ca92076-2f5c-4fa8-bd69-2d6d8c555bcb",
   "metadata": {},
   "outputs": [],
   "source": [
    "Arche.to_excel('BESTI_all.xlsx', sheet_name='sheet1')"
   ]
  },
  {
   "cell_type": "markdown",
   "id": "739c78d6-b8ec-4021-ac65-2791599c16b1",
   "metadata": {
    "tags": []
   },
   "source": [
    "## (Previous codes)"
   ]
  },
  {
   "cell_type": "code",
   "execution_count": null,
   "id": "3bde0aac-ef35-47c5-910f-6ddb182597d1",
   "metadata": {
    "tags": []
   },
   "outputs": [],
   "source": [
    "# # seperation from decades to building types\n",
    "\n",
    "# F_60_Lamellhus = F_60[F_60['FA11Byggnadstyp']=='Lamellhus']\n",
    "# F_60_Skivhus = F_60[F_60['FA11Byggnadstyp']=='Skivhus']\n",
    "# F_60_Punkthus = F_60[F_60['FA11Byggnadstyp']=='Punkthus']\n",
    "# F_60_Loftgångshus = F_60[F_60['FA11Byggnadstyp']=='Loftgångshus']\n",
    "# F_60_Flerbostadsvilla = F_60[F_60['FA11Byggnadstyp']=='Flerbostadsvilla']\n",
    "# F_60_AnnanVilken = F_60[F_60['FA11Byggnadstyp']=='AnnanVilken']\n",
    "# F_60_Radhus = F_60[F_60['FA11Byggnadstyp']=='Radhus']\n",
    "# F_61_75_Lamellhus = F_61_75[F_61_75['FA11Byggnadstyp']=='Lamellhus']\n",
    "# F_61_75_Skivhus = F_61_75[F_61_75['FA11Byggnadstyp']=='Skivhus']\n",
    "# F_61_75_Punkthus = F_61_75[F_61_75['FA11Byggnadstyp']=='Punkthus']\n",
    "# F_61_75_Loftgångshus = F_61_75[F_61_75['FA11Byggnadstyp']=='Loftgångshus']\n",
    "# F_61_75_Flerbostadsvilla = F_61_75[F_61_75['FA11Byggnadstyp']=='Flerbostadsvilla']\n",
    "# F_61_75_AnnanVilken = F_61_75[F_61_75['FA11Byggnadstyp']=='AnnanVilken']\n",
    "# F_61_75_Radhus = F_61_75[F_61_75['FA11Byggnadstyp']=='Radhus']\n",
    "# F_76_85_Lamellhus = F_76_85[F_76_85['FA11Byggnadstyp']=='Lamellhus']\n",
    "# F_76_85_Skivhus = F_76_85[F_76_85['FA11Byggnadstyp']=='Skivhus']\n",
    "# F_76_85_Punkthus = F_76_85[F_76_85['FA11Byggnadstyp']=='Punkthus']\n",
    "# F_76_85_Loftgångshus = F_76_85[F_76_85['FA11Byggnadstyp']=='Loftgångshus']\n",
    "# F_76_85_Flerbostadsvilla = F_76_85[F_76_85['FA11Byggnadstyp']=='Flerbostadsvilla']\n",
    "# F_76_85_AnnanVilken = F_76_85[F_76_85['FA11Byggnadstyp']=='AnnanVilken']\n",
    "# F_76_85_Radhus = F_76_85[F_76_85['FA11Byggnadstyp']=='Radhus']\n",
    "# F_76_85_Sutteränghus = F_76_85[F_76_85['FA11Byggnadstyp']=='Sutteränghus']\n",
    "# F_86_95_Lamellhus = F_86_95[F_86_95['FA11Byggnadstyp']=='Lamellhus']\n",
    "# F_86_95_Skivhus = F_86_95[F_86_95['FA11Byggnadstyp']=='Skivhus']\n",
    "# F_86_95_Punkthus = F_86_95[F_86_95['FA11Byggnadstyp']=='Punkthus']\n",
    "# F_86_95_Loftgångshus = F_86_95[F_86_95['FA11Byggnadstyp']=='Loftgångshus']\n",
    "# F_86_95_Flerbostadsvilla = F_86_95[F_86_95['FA11Byggnadstyp']=='Flerbostadsvilla']\n",
    "# F_86_95_AnnanVilken = F_86_95[F_86_95['FA11Byggnadstyp']=='AnnanVilken']\n",
    "# F_86_95_Radhus = F_86_95[F_86_95['FA11Byggnadstyp']=='Radhus']\n",
    "# F_96_05_Lamellhus = F_96_05[F_96_05['FA11Byggnadstyp']=='Lamellhus']\n",
    "# F_96_05_Skivhus = F_96_05[F_96_05['FA11Byggnadstyp']=='Skivhus']\n",
    "# F_96_05_Punkthus = F_96_05[F_96_05['FA11Byggnadstyp']=='Punkthus']\n",
    "# F_96_05_Loftgångshus = F_96_05[F_96_05['FA11Byggnadstyp']=='Loftgångshus']\n",
    "# F_96_05_Flerbostadsvilla = F_96_05[F_96_05['FA11Byggnadstyp']=='Flerbostadsvilla']\n",
    "# F_96_05_AnnanVilken = F_96_05[F_96_05['FA11Byggnadstyp']=='AnnanVilken']\n",
    "# F_96_05_Radhus = F_96_05[F_96_05['FA11Byggnadstyp']=='Radhus']"
   ]
  },
  {
   "cell_type": "code",
   "execution_count": null,
   "id": "47c4dd62-ca18-454c-8ada-df8091bf1399",
   "metadata": {
    "tags": []
   },
   "outputs": [],
   "source": [
    "# U_wall.append(F_60_Lamellhus['FB52 U-medelvärde ytterväggar'].mean())\n",
    "# U_wall.append(F_60_Skivhus['FB52 U-medelvärde ytterväggar'].mean())\n",
    "# U_wall.append(F_60_Punkthus['FB52 U-medelvärde ytterväggar'].mean())\n",
    "# U_wall.append(F_60_Loftgångshus['FB52 U-medelvärde ytterväggar'].mean())\n",
    "# U_wall.append(F_60_Flerbostadsvilla['FB52 U-medelvärde ytterväggar'].mean())\n",
    "# U_wall.append(F_60_AnnanVilken['FB52 U-medelvärde ytterväggar'].mean())\n",
    "# U_wall.append(F_60_Radhus['FB52 U-medelvärde ytterväggar'].mean())\n",
    "# U_wall.append(F_61_75_Lamellhus['FB52 U-medelvärde ytterväggar'].mean())\n",
    "# U_wall.append(F_61_75_Skivhus['FB52 U-medelvärde ytterväggar'].mean())\n",
    "# U_wall.append(F_61_75_Punkthus['FB52 U-medelvärde ytterväggar'].mean())\n",
    "# U_wall.append(F_61_75_Loftgångshus['FB52 U-medelvärde ytterväggar'].mean())\n",
    "# U_wall.append(F_61_75_Flerbostadsvilla['FB52 U-medelvärde ytterväggar'].mean())\n",
    "# U_wall.append(F_61_75_AnnanVilken['FB52 U-medelvärde ytterväggar'].mean())\n",
    "# U_wall.append(F_61_75_Radhus['FB52 U-medelvärde ytterväggar'].mean())\n",
    "# U_wall.append(F_76_85_Lamellhus['FB52 U-medelvärde ytterväggar'].mean())\n",
    "# U_wall.append(F_76_85_Skivhus['FB52 U-medelvärde ytterväggar'].mean())\n",
    "# U_wall.append(F_76_85_Punkthus['FB52 U-medelvärde ytterväggar'].mean())\n",
    "# U_wall.append(F_76_85_Loftgångshus['FB52 U-medelvärde ytterväggar'].mean())\n",
    "# U_wall.append(F_76_85_Flerbostadsvilla['FB52 U-medelvärde ytterväggar'].mean())\n",
    "# U_wall.append(F_76_85_AnnanVilken['FB52 U-medelvärde ytterväggar'].mean())\n",
    "# U_wall.append(F_76_85_Radhus['FB52 U-medelvärde ytterväggar'].mean())\n",
    "# U_wall.append(F_86_95_Lamellhus['FB52 U-medelvärde ytterväggar'].mean())\n",
    "# U_wall.append(F_86_95_Skivhus['FB52 U-medelvärde ytterväggar'].mean())\n",
    "# U_wall.append(F_86_95_Punkthus['FB52 U-medelvärde ytterväggar'].mean())\n",
    "# U_wall.append(F_86_95_Loftgångshus['FB52 U-medelvärde ytterväggar'].mean())\n",
    "# U_wall.append(F_86_95_Flerbostadsvilla['FB52 U-medelvärde ytterväggar'].mean())\n",
    "# U_wall.append(F_86_95_AnnanVilken['FB52 U-medelvärde ytterväggar'].mean())\n",
    "# U_wall.append(F_86_95_Radhus['FB52 U-medelvärde ytterväggar'].mean())\n",
    "# U_wall.append(F_96_05_Lamellhus['FB52 U-medelvärde ytterväggar'].mean())\n",
    "# U_wall.append(F_96_05_Skivhus['FB52 U-medelvärde ytterväggar'].mean())\n",
    "# U_wall.append(F_96_05_Punkthus['FB52 U-medelvärde ytterväggar'].mean())\n",
    "# U_wall.append(F_96_05_Loftgångshus['FB52 U-medelvärde ytterväggar'].mean())\n",
    "# U_wall.append(F_96_05_Flerbostadsvilla['FB52 U-medelvärde ytterväggar'].mean())\n",
    "# U_wall.append(F_96_05_AnnanVilken['FB52 U-medelvärde ytterväggar'].mean())\n",
    "# U_wall.append(F_96_05_Radhus['FB52 U-medelvärde ytterväggar'].mean())"
   ]
  },
  {
   "cell_type": "code",
   "execution_count": null,
   "id": "04e1dc8a-a369-4908-9537-efe45e99fa7e",
   "metadata": {
    "tags": []
   },
   "outputs": [],
   "source": [
    "# U_win.append(F_60_Lamellhus['FB87-97 U-medelvärde fönster'].mean())\n",
    "# U_win.append(F_60_Skivhus['FB87-97 U-medelvärde fönster'].mean())\n",
    "# U_win.append(F_60_Punkthus['FB87-97 U-medelvärde fönster'].mean())\n",
    "# U_win.append(F_60_Loftgångshus['FB87-97 U-medelvärde fönster'].mean())\n",
    "# U_win.append(F_60_Flerbostadsvilla['FB87-97 U-medelvärde fönster'].mean())\n",
    "# U_win.append(F_60_AnnanVilken['FB87-97 U-medelvärde fönster'].mean())\n",
    "# U_win.append(F_60_Radhus['FB87-97 U-medelvärde fönster'].mean())\n",
    "# U_win.append(F_61_75_Lamellhus['FB87-97 U-medelvärde fönster'].mean())\n",
    "# U_win.append(F_61_75_Skivhus['FB87-97 U-medelvärde fönster'].mean())\n",
    "# U_win.append(F_61_75_Punkthus['FB87-97 U-medelvärde fönster'].mean())\n",
    "# U_win.append(F_61_75_Loftgångshus['FB87-97 U-medelvärde fönster'].mean())\n",
    "# U_win.append(F_61_75_Flerbostadsvilla['FB87-97 U-medelvärde fönster'].mean())\n",
    "# U_win.append(F_61_75_AnnanVilken['FB87-97 U-medelvärde fönster'].mean())\n",
    "# U_win.append(F_61_75_Radhus['FB87-97 U-medelvärde fönster'].mean())\n",
    "# U_win.append(F_76_85_Lamellhus['FB87-97 U-medelvärde fönster'].mean())\n",
    "# U_win.append(F_76_85_Skivhus['FB87-97 U-medelvärde fönster'].mean())\n",
    "# U_win.append(F_76_85_Punkthus['FB87-97 U-medelvärde fönster'].mean())\n",
    "# U_win.append(F_76_85_Loftgångshus['FB87-97 U-medelvärde fönster'].mean())\n",
    "# U_win.append(F_76_85_Flerbostadsvilla['FB87-97 U-medelvärde fönster'].mean())\n",
    "# U_win.append(F_76_85_AnnanVilken['FB87-97 U-medelvärde fönster'].mean())\n",
    "# U_win.append(F_76_85_Radhus['FB87-97 U-medelvärde fönster'].mean())\n",
    "# U_win.append(F_86_95_Lamellhus['FB87-97 U-medelvärde fönster'].mean())\n",
    "# U_win.append(F_86_95_Skivhus['FB87-97 U-medelvärde fönster'].mean())\n",
    "# U_win.append(F_86_95_Punkthus['FB87-97 U-medelvärde fönster'].mean())\n",
    "# U_win.append(F_86_95_Loftgångshus['FB87-97 U-medelvärde fönster'].mean())\n",
    "# U_win.append(F_86_95_Flerbostadsvilla['FB87-97 U-medelvärde fönster'].mean())\n",
    "# U_win.append(F_86_95_AnnanVilken['FB87-97 U-medelvärde fönster'].mean())\n",
    "# U_win.append(F_86_95_Radhus['FB87-97 U-medelvärde fönster'].mean())\n",
    "# U_win.append(F_96_05_Lamellhus['FB87-97 U-medelvärde fönster'].mean())\n",
    "# U_win.append(F_96_05_Skivhus['FB87-97 U-medelvärde fönster'].mean())\n",
    "# U_win.append(F_96_05_Punkthus['FB87-97 U-medelvärde fönster'].mean())\n",
    "# U_win.append(F_96_05_Loftgångshus['FB87-97 U-medelvärde fönster'].mean())\n",
    "# U_win.append(F_96_05_Flerbostadsvilla['FB87-97 U-medelvärde fönster'].mean())\n",
    "# U_win.append(F_96_05_AnnanVilken['FB87-97 U-medelvärde fönster'].mean())\n",
    "# U_win.append(F_96_05_Radhus['FB87-97 U-medelvärde fönster'].mean())"
   ]
  },
  {
   "cell_type": "code",
   "execution_count": null,
   "id": "1be5d91a-045d-4b4f-a08d-f301549a31f3",
   "metadata": {},
   "outputs": [],
   "source": [
    "# # archetypes seperation\n",
    "# y_sep = list(F['Year'].unique())\n",
    "# # building type seperatioin\n",
    "# bt_sep = list(F['FA11Byggnadstyp'].unique())\n",
    "\n",
    "# F_in_1 = F.groupby('Classification')\n",
    "# F_in = F_in_1.agg({'U-medelvärde inkl köldbryggor':'mean',\n",
    "#                                  'Totalt UA-värde inkl köldbryggor': 'mean', \n",
    "#                                  'FB88 Summa fönsterarea N': 'mean', \n",
    "#                                  'FB91 Summa fönsterarea S': 'mean', \n",
    "#                                  'FB94 Summa fönsterarea V': 'mean', \n",
    "#                                  'FB97 Summa fönsterarea O': 'mean', \n",
    "#                                  'FB48 Ytterväggsarea N': 'mean',\n",
    "#                                  'FB48 Ytterväggsarea S': 'mean',\n",
    "#                                  'FB48 Ytterväggsarea V': 'mean', \n",
    "#                                  'FB48 Ytterväggsarea O': 'mean', \n",
    "#                                  'F14ATempt': 'mean', \n",
    "#                                  'FA20Summa':'mean'})\n",
    "# F_in"
   ]
  },
  {
   "cell_type": "code",
   "execution_count": null,
   "id": "55ea3d86-925e-425d-a367-fd7938798343",
   "metadata": {},
   "outputs": [],
   "source": [
    "# (F['FB88 Summa fönsterarea N']/F.loc[:, 'FB48 Ytterväggsarea N']).describe()"
   ]
  },
  {
   "cell_type": "code",
   "execution_count": null,
   "id": "a0c0f0b1-0efa-4adb-9763-7f00fab25182",
   "metadata": {},
   "outputs": [],
   "source": [
    "# Umean_incl_cb = F_in['U-medelvärde inkl köldbryggor']\n",
    "# UAmean_incl_cb = F_in['Totalt UA-värde inkl köldbryggor'] \n",
    "# Aenv = UAmean_incl_cb / Umean_incl_cb\n",
    "# WWR_N = F_in['FB88 Summa fönsterarea N'] / F_in['FB48 Ytterväggsarea N']\n",
    "# WWR_S = F_in['FB91 Summa fönsterarea S'] / F_in['FB48 Ytterväggsarea S']\n",
    "# WWR_V = F_in['FB94 Summa fönsterarea V'] / F_in['FB48 Ytterväggsarea V']\n",
    "# WWR_O = F_in['FB97 Summa fönsterarea O'] / F_in['FB48 Ytterväggsarea O']\n",
    "# Atemp = F_in['F14ATempt']\n",
    "# AptNr = F_in['FA20Summa']\n",
    "# UA_per_Atemp = UAmean_incl_cb / Atemp\n",
    "# #building aspect ratio N(S):V(o)\n",
    "# BAR_NS_OV = ((F_in['FB48 Ytterväggsarea N']+F_in['FB48 Ytterväggsarea S'])/2)/((F_in['FB48 Ytterväggsarea O']+F_in['FB48 Ytterväggsarea V'])/2)"
   ]
  },
  {
   "cell_type": "code",
   "execution_count": null,
   "id": "eba91129-6508-4e77-8194-f8840982274c",
   "metadata": {},
   "outputs": [],
   "source": [
    "# Arche = pd.DataFrame(columns=['Classification','U-mean incl cb', 'UA-mean incl cb', 'Aenv', 'Atemp', 'UA/Atemp', 'WWR_N', 'WWR_S', 'WWR_V', 'WWR_O', 'BAR', 'Apt No.'])\n",
    "# Arche['Classification'] = F_in.index\n",
    "# # Arche['Year'] = F_in['']\n",
    "# Arche['U-mean incl cb'] = F_in['U-medelvärde inkl köldbryggor'].values\n",
    "# Arche['UA-mean incl cb'] = F_in['Totalt UA-värde inkl köldbryggor'].values\n",
    "# Arche['Aenv'] = Aenv.values\n",
    "# Arche['Atemp'] = Atemp.values\n",
    "# Arche['UA/Atemp'] = UA_per_Atemp.values\n",
    "# Arche['WWR_N'] = WWR_N.values\n",
    "# Arche['WWR_S'] = WWR_S.values\n",
    "# Arche['WWR_V'] = WWR_V.values\n",
    "# Arche['WWR_O'] = WWR_O.values\n",
    "# Arche['BAR'] = BAR_NS_OV.values\n",
    "# Arche['Apt No.'] = AptNr.values\n",
    "\n",
    "# Arche"
   ]
  },
  {
   "cell_type": "code",
   "execution_count": null,
   "id": "5a4ff040-da88-4faa-ade4-5ed5b7f0504e",
   "metadata": {},
   "outputs": [],
   "source": [
    "# Arche.to_excel('Archetypes info.xlsx', sheet_name='Properties')"
   ]
  },
  {
   "cell_type": "code",
   "execution_count": null,
   "id": "2b723dce-f3cf-43da-988a-866742427f3a",
   "metadata": {},
   "outputs": [],
   "source": [
    "# F_in"
   ]
  },
  {
   "cell_type": "code",
   "execution_count": null,
   "id": "53440342-1edf-4280-8416-25e6403f14ac",
   "metadata": {},
   "outputs": [],
   "source": []
  }
 ],
 "metadata": {
  "kernelspec": {
   "display_name": "Python 3 (ipykernel)",
   "language": "python",
   "name": "python3"
  },
  "language_info": {
   "codemirror_mode": {
    "name": "ipython",
    "version": 3
   },
   "file_extension": ".py",
   "mimetype": "text/x-python",
   "name": "python",
   "nbconvert_exporter": "python",
   "pygments_lexer": "ipython3",
   "version": "3.10.4"
  }
 },
 "nbformat": 4,
 "nbformat_minor": 5
}
