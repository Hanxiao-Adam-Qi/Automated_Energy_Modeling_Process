{
 "cells": [
  {
   "cell_type": "code",
   "execution_count": null,
   "id": "26dca18a-b19b-444b-9e31-d9e02c56aa1a",
   "metadata": {},
   "outputs": [],
   "source": [
    "import geopandas\n",
    "import pandas as pd\n",
    "import numpy as np\n",
    "import os\n",
    "import osmnx as ox\n",
    "import matplotlib.pyplot as plt\n",
    "import shapely as shp\n",
    "import xlrd, xlwt\n",
    "from geopy import Nominatim\n",
    "from IPython.display import Image\n",
    "import joblib\n",
    "from sklearn.preprocessing import LabelEncoder\n",
    "from sklearn.preprocessing import StandardScaler"
   ]
  },
  {
   "cell_type": "markdown",
   "id": "3f61d394-1a59-45db-afa3-074f7c4a14ab",
   "metadata": {
    "tags": []
   },
   "source": [
    "## read EPCs files and Archetypes"
   ]
  },
  {
   "cell_type": "code",
   "execution_count": null,
   "id": "18e49276-9cf2-4fba-a640-6e1689497f63",
   "metadata": {},
   "outputs": [],
   "source": [
    "file = pd.read_csv('500236_Statistik_Standarduttag_Forskning/efter_v260/data/std_uttag_efter_260.csv',sep=',', decimal=',')\n",
    "file1 = pd.read_csv('500236_Statistik_Standarduttag_Forskning/fore_v260/data/std_uttag_fore_260.csv',sep=',', decimal=',')\n",
    "file = pd.concat([file1, file], ignore_index=True)\n",
    "Arche = pd.read_excel('BESTI_building type.xlsx')"
   ]
  },
  {
   "cell_type": "code",
   "execution_count": null,
   "id": "f75484ab-9b3d-4cc8-9631-6b2e2e36e54c",
   "metadata": {},
   "outputs": [],
   "source": [
    "# nfile = pd.DataFrame(file.loc[:,'IdKommun'][file.loc[:,'EgenByggnadsKat']=='Flerbostadshus' and file.loc[:,'EgenNybyggAr'] <= 2005])\n",
    "nfile = file[(file['EgenByggnadsKat']=='Flerbostadshus') & (file['EgenNybyggAr']<=2005)]\n",
    "nfile_DH = nfile[nfile['EgiFjarrvarme'].notnull()]"
   ]
  },
  {
   "cell_type": "markdown",
   "id": "8aedd5f4-df91-4151-abc7-f8bb0a1ccf14",
   "metadata": {
    "tags": []
   },
   "source": [
    "## Stockholm"
   ]
  },
  {
   "cell_type": "code",
   "execution_count": null,
   "id": "97b16d00-bfa3-406a-b92f-1ee4f0afb30f",
   "metadata": {},
   "outputs": [],
   "source": [
    "sth = nfile_DH[nfile_DH['IdKommun']=='Stockholm']\n",
    "sth = sth.drop_duplicates(subset='IdAdr', keep='first')"
   ]
  },
  {
   "cell_type": "code",
   "execution_count": null,
   "id": "f074ae03-55d7-46c6-877f-0353ff84af0e",
   "metadata": {},
   "outputs": [],
   "source": [
    "sth.to_excel('C:\\OneDrive\\Master_Thesis\\data_and_results\\Building_info\\stockholm.xlsx')"
   ]
  },
  {
   "cell_type": "markdown",
   "id": "c3000434-f2ae-4136-b625-9a80f46ff274",
   "metadata": {
    "tags": []
   },
   "source": [
    "## malmo_DH"
   ]
  },
  {
   "cell_type": "code",
   "execution_count": null,
   "id": "87ae807d-3da8-4b4c-a231-ffbb40dee3fd",
   "metadata": {},
   "outputs": [],
   "source": [
    "malmo = nfile_DH[nfile_DH['IdKommun']=='Malmö']\n",
    "malmo = malmo.drop_duplicates(subset='IdAdr', keep='first')"
   ]
  },
  {
   "cell_type": "code",
   "execution_count": null,
   "id": "ef9c8609-5528-43d3-9c3f-7f29e63c3d74",
   "metadata": {},
   "outputs": [],
   "source": [
    "malmo.to_excel('C:\\OneDrive\\Master_Thesis\\data_and_results\\Building_info\\malmo_DH.xlsx')"
   ]
  },
  {
   "cell_type": "code",
   "execution_count": null,
   "id": "9818b5d6-b712-45b3-92d6-7d8743cf5737",
   "metadata": {},
   "outputs": [],
   "source": [
    "malmo1929 = malmo[malmo['IdAdr']=='Spånehusvägen 46A']\n",
    "malmo1971 = malmo[malmo['IdAdr']=='Kantatgatan 60']\n",
    "malmo1979 = malmo[malmo['IdAdr']=='Rolfsgatan 13']\n",
    "malmo1990 = malmo[malmo['IdAdr']=='Skansgatan 1']\n",
    "malmo2000 = malmo[malmo['IdAdr']=='Rodergatan 8A']\n",
    "malmo_DH = pd.concat([malmo1929, malmo1971, malmo1979, malmo1990, malmo2000])\n",
    "malmo_DH"
   ]
  },
  {
   "cell_type": "markdown",
   "id": "7d868407-89a5-44a3-a476-fe577c7e1b35",
   "metadata": {
    "tags": []
   },
   "source": [
    "## Lomma_86_95"
   ]
  },
  {
   "cell_type": "code",
   "execution_count": null,
   "id": "656f8fcc-e98e-4a1f-b6f1-96ac85b45420",
   "metadata": {},
   "outputs": [],
   "source": [
    "# hels = nfile[nfile['IdKommun']=='Helsingborg']\n",
    "hoj_lomma = nfile[(nfile['IdAdr'].str.contains('Höjeågatan|Sandhamnsgatan')) & (nfile['IdKommun'] == 'Lomma')]\n",
    "hoj_lomma = hoj_lomma[hoj_lomma['IdRapportLM'].isnull()]\n",
    "\n",
    "# select several buildings for simplify and example\n",
    "# hoj_lomma = hoj_lomma[(hoj_lomma['IdAdr'].str.contains('273|365|359|405|389|387|427|425|421|419|351|263|251|259|219|211|190|224|229|241|246|120|130|150|170|89|77|65|53|41|25'))]\n",
    "hoj_lomma = hoj_lomma[(hoj_lomma['IdAdr'] == 'Höjeågatan 273') |\n",
    "                     (hoj_lomma['IdAdr'] == 'Höjeågatan 365') |\n",
    "                     (hoj_lomma['IdAdr'] == 'Höjeågatan 359') |\n",
    "                     (hoj_lomma['IdAdr'] == 'Höjeågatan 405') |\n",
    "                     (hoj_lomma['IdAdr'] == 'Höjeågatan 389') |\n",
    "                     (hoj_lomma['IdAdr'] == 'Höjeågatan 387') |\n",
    "                     (hoj_lomma['IdAdr'] == 'Höjeågatan 427') |\n",
    "                     (hoj_lomma['IdAdr'] == 'Höjeågatan 425') |\n",
    "                     (hoj_lomma['IdAdr'] == 'Höjeågatan 421') |\n",
    "                     (hoj_lomma['IdAdr'] == 'Höjeågatan 419') |\n",
    "                     (hoj_lomma['IdAdr'] == 'Höjeågatan 351') |\n",
    "                     (hoj_lomma['IdAdr'] == 'Höjeågatan 263') |\n",
    "                     (hoj_lomma['IdAdr'] == 'Höjeågatan 251') |\n",
    "                     (hoj_lomma['IdAdr'] == 'Höjeågatan 259') |\n",
    "                     (hoj_lomma['IdAdr'] == 'Höjeågatan 219') |\n",
    "                     (hoj_lomma['IdAdr'] == 'Höjeågatan 211') |\n",
    "                     (hoj_lomma['IdAdr'] == 'Höjeågatan 191') |\n",
    "                     (hoj_lomma['IdAdr'] == 'Höjeågatan 225') |\n",
    "                     (hoj_lomma['IdAdr'] == 'Höjeågatan 241') |\n",
    "                     (hoj_lomma['IdAdr'] == 'Höjeågatan 245') |\n",
    "                     (hoj_lomma['IdAdr'] == 'Höjeågatan 119') |\n",
    "                     (hoj_lomma['IdAdr'] == 'Höjeågatan 131') |\n",
    "                     (hoj_lomma['IdAdr'] == 'Höjeågatan 151') |\n",
    "                     (hoj_lomma['IdAdr'] == 'Höjeågatan 171') |\n",
    "                     (hoj_lomma['IdAdr'] == 'Höjeågatan 89') |\n",
    "                     (hoj_lomma['IdAdr'] == 'Höjeågatan 77') |\n",
    "                     (hoj_lomma['IdAdr'] == 'Höjeågatan 65') |\n",
    "                     (hoj_lomma['IdAdr'] == 'Höjeågatan 53') |\n",
    "                     (hoj_lomma['IdAdr'] == 'Höjeågatan 41') |\n",
    "                     (hoj_lomma['IdAdr'] == 'Höjeågatan 25') |\n",
    "                     (hoj_lomma['IdAdr'] == 'Höjeågatan 3') |\n",
    "                     (hoj_lomma['IdAdr'] == 'Höjeågatan 9') |\n",
    "                     (hoj_lomma['IdAdr'] == 'Höjeågatan 15') |\n",
    "                     (hoj_lomma['IdAdr'] == 'Höjeågatan 21') |\n",
    "                     (hoj_lomma['IdAdr'] == 'Sandhamnsgatan 9')]\n",
    "\n",
    "hoj_lomma.drop_duplicates(subset=['IdAdr'], keep='first', inplace=True)"
   ]
  },
  {
   "cell_type": "code",
   "execution_count": null,
   "id": "ac14ba5e-8fc2-4e86-9b8c-07639990e0c8",
   "metadata": {},
   "outputs": [],
   "source": [
    "hoj_lomma.head()"
   ]
  },
  {
   "cell_type": "markdown",
   "id": "a07cf6ad-ed66-49a7-8cad-29563d2b5e35",
   "metadata": {
    "tags": []
   },
   "source": [
    "## Ostersund DH"
   ]
  },
  {
   "cell_type": "code",
   "execution_count": null,
   "id": "208a0f7b-903a-4dc7-a8c1-373f584be5c1",
   "metadata": {},
   "outputs": [],
   "source": [
    "ostersund = nfile_DH[nfile_DH['IdLan']=='Jämtlands län']"
   ]
  },
  {
   "cell_type": "code",
   "execution_count": null,
   "id": "3a0df0b7-9428-4ab3-a6e3-b32a5f8229c0",
   "metadata": {},
   "outputs": [],
   "source": [
    "ostersund1956 = ostersund[ostersund['IdAdr']=='Krondikesvägen 36A']\n",
    "ostersund1979 = ostersund[ostersund['IdAdr']=='Löjtnantsvägen 72']\n",
    "ostersund1991 = ostersund[ostersund['IdAdr']=='Havrevägen 12']"
   ]
  },
  {
   "cell_type": "code",
   "execution_count": null,
   "id": "aae68e4e-7f85-4630-97e7-138ee5c4b64c",
   "metadata": {},
   "outputs": [],
   "source": [
    "ostersund_DH = pd.concat([ostersund1956, ostersund1979, ostersund1991])"
   ]
  },
  {
   "cell_type": "markdown",
   "id": "85e0ef04-48ef-4388-ae7d-2a65a5c1c5d4",
   "metadata": {
    "tags": []
   },
   "source": [
    "## Hammarö -60 DH"
   ]
  },
  {
   "cell_type": "code",
   "execution_count": null,
   "id": "d1cbc378-c2a0-47e0-95e9-79523964a4fc",
   "metadata": {},
   "outputs": [],
   "source": [
    "hammaro_DH = nfile[(nfile['IdKommun'] == 'Hammarö')]\n",
    "hammaro_DH = hammaro_DH[(hammaro_DH['IdAdr']=='Vändgatan 3') |\n",
    "                  (hammaro_DH['IdAdr']=='Vändgatan 1B') |\n",
    "                  (hammaro_DH['IdAdr']=='Vändgatan 7B') |\n",
    "                  (hammaro_DH['IdAdr']=='Vändgatan 11B')]\n",
    "hammaro_DH = hammaro_DH.drop_duplicates(subset='IdAdr', keep='first')"
   ]
  },
  {
   "cell_type": "code",
   "execution_count": null,
   "id": "77e1d28d-102f-4e59-b5e0-b6ebc642e8b2",
   "metadata": {},
   "outputs": [],
   "source": []
  },
  {
   "cell_type": "markdown",
   "id": "c1abc14e-af63-4ae8-84a2-04c09f31818d",
   "metadata": {
    "tags": []
   },
   "source": [
    "## Hammarö -60"
   ]
  },
  {
   "cell_type": "code",
   "execution_count": null,
   "id": "f8cacb34-fbeb-4270-9feb-a5bc4591f226",
   "metadata": {},
   "outputs": [],
   "source": [
    "hammaro = nfile[(nfile['IdKommun'] == 'Hammarö')]\n",
    "hammaro = hammaro[(hammaro['IdAdr']=='Lunserudsvägen 12B') |\n",
    "                  (hammaro['IdAdr']=='Prästgårdsvägen 13A') |\n",
    "                  (hammaro['IdAdr']=='Mellanvägen 2B') |\n",
    "                  (hammaro['IdAdr']=='Vändgatan 3') |\n",
    "                  (hammaro['IdAdr']=='Vändgatan 1B') |\n",
    "                  (hammaro['IdAdr']=='Vändgatan 7B') |\n",
    "                  (hammaro['IdAdr']=='Vändgatan 11B')]\n",
    "hammaro = hammaro.drop_duplicates(subset='IdAdr', keep='first')"
   ]
  },
  {
   "cell_type": "code",
   "execution_count": null,
   "id": "4e24c564-06c0-4a21-a49e-1889542a51f5",
   "metadata": {},
   "outputs": [],
   "source": [
    "hammaro.head()"
   ]
  },
  {
   "cell_type": "code",
   "execution_count": null,
   "id": "43a479e6-090d-4114-b5bd-8e3f0d176958",
   "metadata": {},
   "outputs": [],
   "source": []
  },
  {
   "cell_type": "markdown",
   "id": "742f7442-00d3-414e-9f9b-0a7ecd4fbcee",
   "metadata": {
    "jp-MarkdownHeadingCollapsed": true,
    "tags": []
   },
   "source": [
    "## Malmö -60"
   ]
  },
  {
   "cell_type": "code",
   "execution_count": null,
   "id": "f148817a-0598-4230-ae84-e0beeba990d5",
   "metadata": {
    "tags": []
   },
   "outputs": [],
   "source": [
    "malmo = nfile[(nfile['IdKommun'] == 'Malmö')]\n",
    "malmo_60 = malmo[(malmo['IdAdr']=='Roddaregatan 20A') |\n",
    "        (malmo['IdAdr']=='Birger Jarlsgatan 37A') |\n",
    "        (malmo['IdAdr']=='Västra Bernadottesgatan 20')]"
   ]
  },
  {
   "cell_type": "markdown",
   "id": "dae17176-6c51-4fc3-8a0e-d9b8ac7a3056",
   "metadata": {
    "jp-MarkdownHeadingCollapsed": true,
    "tags": []
   },
   "source": [
    "## Malmö 61-75"
   ]
  },
  {
   "cell_type": "code",
   "execution_count": null,
   "id": "6bb0b9fd-3c59-45dc-8f4c-c1e8b115adea",
   "metadata": {
    "tags": []
   },
   "outputs": [],
   "source": [
    "malmo_61_75 = malmo[(malmo['IdAdr']=='Konsultgatan 2') |\n",
    "        (malmo['IdAdr']=='Konsultgatan 5') |\n",
    "        (malmo['IdAdr']=='Konsultgatan 30') |\n",
    "        (malmo['IdAdr']=='Konsultgatan 21') |\n",
    "        (malmo['IdAdr']=='Konsultgatan 8') |\n",
    "        (malmo['IdAdr']=='Konsultgatan 11') |\n",
    "        (malmo['IdAdr']=='Konsultgatan 22') |\n",
    "        (malmo['IdAdr']=='Konsultgatan 27') |\n",
    "        (malmo['IdAdr']=='Konsultgatan 16') |\n",
    "        (malmo['IdAdr']=='Konsultgatan 35') |\n",
    "        (malmo['IdAdr']=='Konsultgatan 19')]"
   ]
  },
  {
   "cell_type": "code",
   "execution_count": null,
   "id": "2a985811-99b9-4527-8206-d824de1377e2",
   "metadata": {},
   "outputs": [],
   "source": [
    "# malmo_61_75"
   ]
  },
  {
   "cell_type": "markdown",
   "id": "036f89fc-d26f-4c58-84dd-32e1c2d8bb3a",
   "metadata": {
    "jp-MarkdownHeadingCollapsed": true,
    "tags": []
   },
   "source": [
    "## malmo_76_85"
   ]
  },
  {
   "cell_type": "code",
   "execution_count": null,
   "id": "ca0f58be-c142-4b0d-b4ea-9f27396c9536",
   "metadata": {},
   "outputs": [],
   "source": [
    "malmo_76_85 = malmo[(malmo['IdAdr']=='Lugna Gatan 3') |\n",
    "        (malmo['IdAdr']=='Lugna Gatan 17') |\n",
    "        (malmo['IdAdr']=='Lugna Gatan 31') |\n",
    "        (malmo['IdAdr']=='Lugna Gatan 41') |\n",
    "        (malmo['IdAdr']=='Lugna Gatan 47')]"
   ]
  },
  {
   "cell_type": "markdown",
   "id": "b1d8f9e5-00db-4850-bf0b-307ba9be7677",
   "metadata": {
    "jp-MarkdownHeadingCollapsed": true,
    "tags": []
   },
   "source": [
    "## malmo_86_95"
   ]
  },
  {
   "cell_type": "code",
   "execution_count": null,
   "id": "e962cb7c-dc71-4447-a3b4-29985c5d4586",
   "metadata": {},
   "outputs": [],
   "source": [
    "malmo_86_95 = malmo[(malmo['IdAdr']=='Gullregnsvägen 2A') |\n",
    "        (malmo['IdAdr']=='Jägersrovägen 5B') |\n",
    "        (malmo['IdAdr']=='Jägersrovägen 7B') |\n",
    "        (malmo['IdAdr']=='Jägersrovägen 9B') |\n",
    "        (malmo['IdAdr']=='Jägersrovägen 11B') |\n",
    "        (malmo['IdAdr']=='Jägersrovägen 13B') |\n",
    "        (malmo['IdAdr']=='Jägersrovägen 15B') |\n",
    "        (malmo['IdAdr']=='Jägersrovägen 17B') |\n",
    "        (malmo['IdAdr']=='Jägersrovägen 19D') |\n",
    "        (malmo['IdAdr']=='Jägersrovägen 19B') |\n",
    "        (malmo['IdAdr']=='Poppelgatan 18B')]\n",
    "malmo_86_95 = malmo_86_95.drop_duplicates(subset='IdAdr', keep='last')"
   ]
  },
  {
   "cell_type": "markdown",
   "id": "fbab6102-e472-4470-9da3-e1254d6ab25a",
   "metadata": {
    "tags": []
   },
   "source": [
    "## malmo_96_05"
   ]
  },
  {
   "cell_type": "code",
   "execution_count": null,
   "id": "5017c304-272c-4693-a633-343a009ac4eb",
   "metadata": {},
   "outputs": [],
   "source": [
    "malmo_96_05 = malmo[(malmo['IdAdr']=='Rodergatan 4') |\n",
    "        (malmo['IdAdr']=='Propellergatan 13')]\n",
    "malmo_96_05 = malmo_96_05.drop_duplicates(subset='IdAdr', keep='first')"
   ]
  },
  {
   "cell_type": "markdown",
   "id": "a8ff7c90-61a9-4f9c-82df-9b776be94250",
   "metadata": {},
   "source": [
    "## Single Buildings"
   ]
  },
  {
   "cell_type": "code",
   "execution_count": null,
   "id": "fb984690-5097-45d0-9654-a17fc41c45f0",
   "metadata": {},
   "outputs": [],
   "source": [
    "single_building = pd.concat([ostersund[ostersund['IdAdr']=='Skylvägen 11'],\n",
    "                       malmo[malmo['IdAdr']=='Mäster Palmsgatan 7A'],\n",
    "                       malmo[malmo['IdAdr']=='Musikantgatan 1'],\n",
    "                       sth[sth['IdAdr']=='Porkalafaret 40'],\n",
    "                       sth[sth['IdAdr']=='Solberga Hagväg 10']])\n",
    "\n",
    "single_building"
   ]
  },
  {
   "cell_type": "markdown",
   "id": "234a9254-24da-4b82-a4ec-a426d6f490ed",
   "metadata": {
    "tags": []
   },
   "source": [
    "## Buildings of input"
   ]
  },
  {
   "cell_type": "code",
   "execution_count": null,
   "id": "409d65d3-64aa-4d19-945a-253121cf1299",
   "metadata": {},
   "outputs": [],
   "source": [
    "buildings = model_cali\n",
    "buildings = buildings.drop_duplicates(subset='IdAdr', keep='first')"
   ]
  },
  {
   "cell_type": "markdown",
   "id": "ab5f835f-544f-4ef2-af8c-1b3b75439e72",
   "metadata": {
    "tags": []
   },
   "source": [
    "## Data processing "
   ]
  },
  {
   "cell_type": "code",
   "execution_count": null,
   "id": "58b213a3-e9b8-49c9-8c52-fca9ad6dadd4",
   "metadata": {},
   "outputs": [],
   "source": [
    "add_street = list(buildings['IdAdr'])\n",
    "add_city = list(buildings['IdKommun'])\n",
    "addr = []\n",
    "for i in range(len(add_city)):\n",
    "    addr.append('{},{}'.format(add_street[i], add_city[i]))\n",
    "addr"
   ]
  },
  {
   "cell_type": "code",
   "execution_count": null,
   "id": "79c5150a-8df1-43f1-8c49-fd8fddd04472",
   "metadata": {},
   "outputs": [],
   "source": [
    "nom = Nominatim(user_agent='daxug82')"
   ]
  },
  {
   "cell_type": "markdown",
   "id": "db4faf3f-d2b6-41bf-892c-74967c343053",
   "metadata": {},
   "source": [
    "### TIME CONSUMING!!! get lat and lon"
   ]
  },
  {
   "cell_type": "code",
   "execution_count": null,
   "id": "d2fea3d6-4e53-48d0-86ab-62bf8c1c035c",
   "metadata": {},
   "outputs": [],
   "source": [
    "tags = {\"building\": True}\n",
    "lat = []\n",
    "lon = []\n",
    "for j in range(len(addr)):\n",
    "    posi = nom.geocode(addr[j])\n",
    "    lat.append(posi.latitude)\n",
    "    lon.append(posi.longitude)  "
   ]
  },
  {
   "cell_type": "code",
   "execution_count": null,
   "id": "1ebfccdc-2f30-4555-a494-50191137935b",
   "metadata": {},
   "outputs": [],
   "source": [
    "buildings['latitude'] = lat\n",
    "buildings['longtitude'] = lon"
   ]
  },
  {
   "cell_type": "code",
   "execution_count": null,
   "id": "2ad8deb1-a102-4e3b-bb1f-95033b6ec07f",
   "metadata": {},
   "outputs": [],
   "source": [
    "buildings"
   ]
  },
  {
   "cell_type": "code",
   "execution_count": null,
   "id": "26eac84c-4a4a-427a-b01d-e81da6ce14a3",
   "metadata": {},
   "outputs": [],
   "source": [
    "polygon = pd.DataFrame(columns=['latitude', 'longtitude', 'polygon data'])\n",
    "polygon_context = pd.DataFrame(columns=['latitude', 'longtitude', 'polygon data'])\n",
    "# polygon.append({'latitude':lat[1], 'longtitude':lon[1]}, ignore_index=True)"
   ]
  },
  {
   "cell_type": "markdown",
   "id": "aa3d22f9-2452-430f-a1eb-ad8a3b8ba5e5",
   "metadata": {
    "tags": []
   },
   "source": [
    "### TIME CONSUMING!!! get building Polygon data"
   ]
  },
  {
   "cell_type": "code",
   "execution_count": null,
   "id": "5beae348-c0f4-4977-bc6c-b454a0a8a9f6",
   "metadata": {
    "tags": []
   },
   "outputs": [],
   "source": [
    "area_OSM = 0\n",
    "for i in range(len(lat)):\n",
    "    point = (lat[i], lon[i])\n",
    "    gdf = geopandas.GeoDataFrame()\n",
    "    dist = 6\n",
    "    polygon.loc[i,'latitude'] = lat[i]\n",
    "    polygon.loc[i,'longtitude'] = lon[i]\n",
    "    gdf = ox.geometries_from_point(point, tags, dist=dist)\n",
    "    gdf = gdf[gdf.area > 5e-09]\n",
    "    # while geometry.empty == True:\n",
    "    #     dist += 0.5\n",
    "    #     gdf = ox.geometries_from_point(point, tags, dist=dist)\n",
    "    polygon.loc[i,'polygon data'] = np.nan\n",
    "    if gdf.empty != True:\n",
    "        gdf_proj = ox.project_gdf(gdf)\n",
    "        polygon.loc[i,'polygon data'] = [list(gdf_proj.geometry.exterior[row_id].coords) for row_id in range(gdf.shape[0])][0]\n",
    "    area_OSM += gdf_proj.area.values[0]\n",
    "    print('{}/{}'.format(i, len(lat)-1))"
   ]
  },
  {
   "cell_type": "markdown",
   "id": "d4d7feaf-7821-47cf-b4fe-769b959c43e5",
   "metadata": {},
   "source": [
    "### Time Consuming!!! Get context polygon data"
   ]
  },
  {
   "cell_type": "code",
   "execution_count": null,
   "id": "119b3abf-f2f9-4a5f-8fb6-5b7021faedfb",
   "metadata": {},
   "outputs": [],
   "source": [
    "for i in range(len(lat)):\n",
    "    point = (lat[i], lon[i])\n",
    "    gdf_context = geopandas.GeoDataFrame()\n",
    "    dist = 100\n",
    "    polygon_context.loc[i,'latitude'] = lat[i]\n",
    "    polygon_context.loc[i,'longtitude'] = lon[i]\n",
    "    gdf_context = ox.geometries_from_point(point, tags, dist=dist)\n",
    "    # while geometry.empty == True:\n",
    "    #     dist += 0.5\n",
    "    #     gdf = ox.geometries_from_point(point, tags, dist=dist)\n",
    "    polygon_context.loc[i,'polygon data'] = np.nan\n",
    "    if gdf_context.empty != True:\n",
    "        gdf_context_proj = ox.project_gdf(gdf_context)\n",
    "        polygon_context.loc[i,'polygon data'] = [list(gdf_context_proj.geometry.exterior[row_id].coords) for row_id in range(gdf_context.shape[0])]\n",
    "    print('{}/{}'.format(i, len(lat)-1))"
   ]
  },
  {
   "cell_type": "markdown",
   "id": "ed884590-0963-4b02-8cd3-5e4801a43170",
   "metadata": {},
   "source": [
    "### Display buidling polygon"
   ]
  },
  {
   "cell_type": "code",
   "execution_count": null,
   "id": "586bf018-ce90-4283-b559-9033b7959cc8",
   "metadata": {},
   "outputs": [],
   "source": [
    "# configure the inline image display\n",
    "img_folder = \"images\"\n",
    "extension = \"png\"\n",
    "size = 240\n",
    "\n",
    "ind = 1\n",
    "point = (lat[ind], lon[ind])\n",
    "print(lat[ind], lon[ind])\n",
    "dist = 100\n",
    "gdf = ox.geometries_from_point(point, tags, dist=dist)\n",
    "if gdf.empty:\n",
    "    print('empty!')\n",
    "# gdf = gdf[gdf.area > 5e-09]\n",
    "# gdf.to_excel(r'E:\\OneDrive\\Master_Thesis\\Energy_Simulation\\GIS Data\\test.xlsx', sheet_name='1')\n",
    "gdf_proj = ox.project_gdf(gdf)\n",
    "bbox = ox.utils_geo.bbox_from_point(point=point, dist=50, project_utm=True)\n",
    "fp = f\"./{img_folder}/paris_bldgs.{extension}\"\n",
    "fig, ax = ox.plot_footprints(\n",
    "    gdf_proj,\n",
    "    bbox=bbox,\n",
    "    color=\"w\",\n",
    "    filepath=fp,\n",
    "    dpi=90,\n",
    "    save=True,\n",
    "    show=False,\n",
    "    close=True,\n",
    ")\n",
    "Image(fp, height=size, width=size)\n"
   ]
  },
  {
   "cell_type": "code",
   "execution_count": null,
   "id": "6c4d3f6c-962d-4171-bb84-b74895b9f169",
   "metadata": {},
   "outputs": [],
   "source": [
    "buildings.loc[:,'polygon data'] = list(polygon['polygon data'])\n",
    "buildings.loc[:, 'contex polygon data'] = list(polygon_context['polygon data'])\n",
    "buildings"
   ]
  },
  {
   "cell_type": "code",
   "execution_count": null,
   "id": "00e7faea-2926-4d1e-a608-80d6c5772df2",
   "metadata": {},
   "outputs": [],
   "source": [
    "area_EPCs = (buildings['EgenAtemp']/(buildings['EgenAntalPlan']+buildings['EgenAntalKallarplan']/2)).sum()\n",
    "\n",
    "scale_factor = area_EPCs/area_OSM\n",
    "scale_factor\n",
    "\n",
    "buildings['EgenAtemp'].sum()\n",
    "scale_factor\n",
    "buildings['IdAdr']"
   ]
  },
  {
   "cell_type": "markdown",
   "id": "0415da44-707b-4f7b-915b-b1ab164e0ea2",
   "metadata": {
    "tags": []
   },
   "source": [
    "## Predict Building Types"
   ]
  },
  {
   "cell_type": "code",
   "execution_count": null,
   "id": "9ed23977-ae48-4a49-b762-c2bb88001861",
   "metadata": {},
   "outputs": [],
   "source": [
    "# read files\n",
    "FA = pd.read_csv('betsi_origin/FA.csv', sep=';' ,encoding='iso-8859-1', decimal=',')\n",
    "FB_Klimat = pd.read_csv('betsi_origin/FB_Klimat.csv',sep=';' ,encoding='iso-8859-1', decimal=',').drop(columns=['Hustyp'])\n",
    "year = pd.read_csv('betsi_origin/Byggår.csv', encoding='iso-8859-1')\n",
    "FB49_YTTERVAGG = pd.read_csv('betsi_origin/FB49 Ytterv„gg.csv', sep=';', encoding='iso-8859-1', decimal=',')\n",
    "FB52_YTTERVAGG = pd.read_csv('betsi_origin/FB52 Ytterv„gg.csv', sep=';', encoding='iso-8859-1', decimal=',')\n",
    "\n",
    "# concat several features\n",
    "F = pd.concat([FA, FB_Klimat],axis=1, join='inner')\n",
    "\n",
    "# Delete unrealistic values\n",
    "F = F[(F['FB52 U-medelvärde ytterväggar']>=0.1) & (F['FB87-97 U-medelvärde fönster']>0)]\n",
    "F.loc[:, 'FXByggår'] = year['FXByggÃ¥r']\n",
    "\n",
    "# select muilti-family buildings\n",
    "F = F[F['Hustyp']=='F']\n",
    "\n",
    "# building type\n",
    "bt = F.loc[:,['F14ATempt', 'FA16AntalPlanOvanMark', 'FA17AntalTrappuppgangar', 'FA20Summa', 'FXByggår', 'FA11Byggnadstyp']]\n",
    "bt = bt[(bt['FA11Byggnadstyp'] != 'AnnanVilken') & (bt['FA17AntalTrappuppgangar']<10)]\n",
    "# bt = bt[bt['FA17AntalTrappuppgangar']<10]\n",
    "\n",
    "le = LabelEncoder().fit(bt.iloc[:,-1])"
   ]
  },
  {
   "cell_type": "code",
   "execution_count": null,
   "id": "585152f4-b63a-44a9-91ec-525dc77e11dd",
   "metadata": {},
   "outputs": [],
   "source": [
    "clf = joblib.load('Buidling_Types_Pre.pkl')\n",
    "feature = buildings[['EgenAntalPlan', 'EgenAntalTrapphus', 'EgenAntalBolgh']]\n",
    "y = clf.predict(feature)\n",
    "buildings.loc[:,'Building types'] = y\n",
    "buildings"
   ]
  },
  {
   "cell_type": "markdown",
   "id": "2c98b1b8-ed68-41dd-a8be-cb42b042e364",
   "metadata": {},
   "source": [
    "## Applying Archetypes"
   ]
  },
  {
   "cell_type": "code",
   "execution_count": null,
   "id": "94a47452-b6da-4981-997b-e45874c63fbb",
   "metadata": {},
   "outputs": [],
   "source": [
    "def Arche_apply(x):\n",
    "    arche = []\n",
    "    for j in range(len(list(x['EgenNybyggAr']))):\n",
    "        i = list(x['EgenNybyggAr'])[j]\n",
    "        \n",
    "        if i <=1960:\n",
    "            ar = 'F_60_{}'.format(list(buildings['Building types'])[j])\n",
    "        elif 1960 < i <= 1975:\n",
    "            ar = 'F_61_75_{}'.format(list(buildings['Building types'])[j])\n",
    "        elif 1976 <= i <= 1985:\n",
    "            ar = 'F_76_85_{}'.format(list(buildings['Building types'])[j])\n",
    "        elif 1986 <= i <= 1995:\n",
    "            ar = 'F_86_95_{}'.format(list(buildings['Building types'])[j])\n",
    "        elif 1996 <= i <= 20055:\n",
    "            ar = 'F_96_05_{}'.format(list(buildings['Building types'])[j])\n",
    "        arche.append(ar)\n",
    "    return arche"
   ]
  },
  {
   "cell_type": "code",
   "execution_count": null,
   "id": "5e9af7ca-6ef1-452c-89db-494d8d541e03",
   "metadata": {},
   "outputs": [],
   "source": [
    "arche = Arche_apply(buildings)\n",
    "\n",
    "besti_bt = pd.read_excel('BESTI_building type.xlsx',index_col='Classification')"
   ]
  },
  {
   "cell_type": "code",
   "execution_count": null,
   "id": "443e061f-d7fd-4990-8317-2298912474fb",
   "metadata": {},
   "outputs": [],
   "source": [
    "arche_info = pd.DataFrame()\n",
    "for i in range(len(arche)):\n",
    "    arche_info = pd.concat([arche_info,besti_bt.loc[[arche[i]]]])"
   ]
  },
  {
   "cell_type": "code",
   "execution_count": null,
   "id": "91cfa2b3-d53f-4a59-bd05-58adf4ff942f",
   "metadata": {},
   "outputs": [],
   "source": [
    "buildings.loc[:, 'Archetypes'] = arche\n",
    "buildings.loc[:, 'Atemp convert factor'] = scale_factor\n",
    "buildings = pd.concat([buildings.reset_index(), arche_info.reset_index()], axis=1)"
   ]
  },
  {
   "cell_type": "code",
   "execution_count": null,
   "id": "bbb733ea-0e55-4fa1-96a7-98b95c06c145",
   "metadata": {},
   "outputs": [],
   "source": [
    "s = list(buildings['IdKommun'])[1]\n",
    "s = s.replace('ö', 'o').replace('Ö', 'o')\n",
    "buildings.to_excel('Building_info/{}_{}_DH_sb.xls'.format(s, list(buildings['EgenNybyggAr'])[1]), sheet_name='sheet1')"
   ]
  },
  {
   "cell_type": "code",
   "execution_count": null,
   "id": "5d8e5ce6-46f7-40c2-9b90-c96aead7cd0e",
   "metadata": {},
   "outputs": [],
   "source": [
    "buildings.to_excel('Building_info/model calibration.xls'.format(s, list(buildings['EgenNybyggAr'])[1]), sheet_name='sheet1')"
   ]
  },
  {
   "cell_type": "markdown",
   "id": "40760636-b5a7-48c5-a0e4-16c572a06a60",
   "metadata": {
    "tags": []
   },
   "source": [
    "## Simulation Building Selection"
   ]
  },
  {
   "cell_type": "code",
   "execution_count": null,
   "id": "f8c367e3-08be-4059-ab1e-143c2d4670eb",
   "metadata": {},
   "outputs": [],
   "source": [
    "# # building_select = nfile[(nfile['EgenNybyggAr']<1961)&(nfile['IdKommun']=='Malmö')]\n",
    "\n",
    "# building_select = nfile[(nfile['EgenNybyggAr']<1995) & \n",
    "#                        (nfile['EgenNybyggAr']>=1986) &\n",
    "#                        (nfile['IdKommun']=='Malmö')]\n",
    "# building_select.to_excel('Building info/Simu-Building selection.xls', sheet_name='1')"
   ]
  },
  {
   "cell_type": "code",
   "execution_count": null,
   "id": "03ba338a-10ae-4043-9465-034d2f20de1c",
   "metadata": {},
   "outputs": [],
   "source": []
  },
  {
   "cell_type": "code",
   "execution_count": null,
   "id": "71e850fe-9dd1-42b7-83cc-f484c48a3b00",
   "metadata": {},
   "outputs": [],
   "source": []
  },
  {
   "cell_type": "code",
   "execution_count": null,
   "id": "94b4db20-7095-431e-acb7-71d965bc0027",
   "metadata": {},
   "outputs": [],
   "source": []
  },
  {
   "cell_type": "markdown",
   "id": "f4ffecb6-05c3-47c5-953d-67fe18a76e8f",
   "metadata": {},
   "source": [
    "## xlrd test"
   ]
  },
  {
   "cell_type": "code",
   "execution_count": null,
   "id": "9b438c0b-0e33-4af3-845d-08dab6e1fa8a",
   "metadata": {},
   "outputs": [],
   "source": [
    "# path = 'Building info/Malmö_2001.xls'\n",
    "# wb = xlrd.open_workbook(path)\n",
    "# ws=wb.sheet_by_name('sheet1')\n",
    "\n",
    "# nrows=ws.nrows                       \n",
    "# ncols=ws.ncols\n",
    "\n",
    "# A = ws.row_values(0).index('polygon data')\n",
    "# polygon = []\n",
    "# for i in range(1, len(ws.col_values(A))):\n",
    "#     polygon.append(eval(ws.col_values(A)[i]))\n",
    "# malmo_76_85['EgenAntalPlan']"
   ]
  },
  {
   "cell_type": "code",
   "execution_count": null,
   "id": "54402f2f-7e98-4414-989b-15ea1c57f069",
   "metadata": {},
   "outputs": [],
   "source": []
  }
 ],
 "metadata": {
  "kernelspec": {
   "display_name": "Python 3 (ipykernel)",
   "language": "python",
   "name": "python3"
  },
  "language_info": {
   "codemirror_mode": {
    "name": "ipython",
    "version": 3
   },
   "file_extension": ".py",
   "mimetype": "text/x-python",
   "name": "python",
   "nbconvert_exporter": "python",
   "pygments_lexer": "ipython3",
   "version": "3.10.4"
  }
 },
 "nbformat": 4,
 "nbformat_minor": 5
}
