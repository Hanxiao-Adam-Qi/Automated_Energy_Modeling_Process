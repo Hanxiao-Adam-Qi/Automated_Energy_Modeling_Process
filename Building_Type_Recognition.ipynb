{
 "cells": [
  {
   "cell_type": "code",
   "execution_count": null,
   "id": "1a6f5da5-2b03-4c3d-b14c-e6602b46da20",
   "metadata": {},
   "outputs": [],
   "source": [
    "import pandas as pd\n",
    "import numpy as np\n",
    "import os\n",
    "from Functions import matching_check\n",
    "from sklearn import tree\n",
    "from sklearn.model_selection import train_test_split\n",
    "from sklearn.preprocessing import LabelEncoder\n",
    "from xgboost import XGBClassifier\n",
    "from sklearn.model_selection import cross_val_score\n",
    "from sklearn.ensemble import RandomForestClassifier\n",
    "from sklearn.preprocessing import StandardScaler\n",
    "from sklearn import preprocessing\n",
    "import joblib\n",
    "# import graphviz"
   ]
  },
  {
   "cell_type": "code",
   "execution_count": null,
   "id": "61d46de4-d8ca-4cfa-93dc-200dcdb0c0e4",
   "metadata": {},
   "outputs": [],
   "source": [
    "# read files\n",
    "FA = pd.read_csv('betsi_origin/FA.csv', sep=';' ,encoding='iso-8859-1', decimal=',')\n",
    "FB_Klimat = pd.read_csv('betsi_origin/FB_Klimat.csv',sep=';' ,encoding='iso-8859-1', decimal=',').drop(columns=['Hustyp'])\n",
    "year = pd.read_csv('betsi_origin/Byggår.csv', encoding='iso-8859-1')\n",
    "FB49_YTTERVAGG = pd.read_csv('betsi_origin/FB49 Ytterv„gg.csv', sep=';', encoding='iso-8859-1', decimal=',')\n",
    "FB52_YTTERVAGG = pd.read_csv('betsi_origin/FB52 Ytterv„gg.csv', sep=';', encoding='iso-8859-1', decimal=',')"
   ]
  },
  {
   "cell_type": "code",
   "execution_count": null,
   "id": "c4e81cb3-0f3c-45bc-8e1e-b91250976801",
   "metadata": {},
   "outputs": [],
   "source": [
    "# concat several features\n",
    "F = pd.concat([FA, FB_Klimat],axis=1, join='inner')\n",
    "\n",
    "# Delete unrealistic values\n",
    "F = F[(F['FB52 U-medelvärde ytterväggar']>=0.1) & (F['FB87-97 U-medelvärde fönster']>0)]\n",
    "F.loc[:, 'FXByggår'] = year['FXByggÃ¥r']\n",
    "\n",
    "# select muilti-family buildings\n",
    "F = F[F['Hustyp']=='F']"
   ]
  },
  {
   "cell_type": "code",
   "execution_count": null,
   "id": "2510276b-9333-4ecd-abf4-1a4917f9ebc1",
   "metadata": {},
   "outputs": [],
   "source": [
    "# building type\n",
    "bt = F.loc[:,['F14ATempt', 'FA16AntalPlanOvanMark', 'FA17AntalTrappuppgangar', 'FA20Summa', 'FXByggår','F16AntalPlanUnderMark' , 'FA11Byggnadstyp']]\n",
    "\n",
    "# bt = bt[bt['FA17AntalTrappuppgangar']<10]\n",
    "bt\n",
    "le = LabelEncoder().fit(bt.iloc[:,-1])\n",
    "# bt.iloc[:,-1] = le.transform(bt.iloc[:,-1])\n",
    "bt"
   ]
  },
  {
   "cell_type": "markdown",
   "id": "8467df92-4d5c-4d06-a379-a7b1e42a9e32",
   "metadata": {},
   "source": [
    "### XGBoost Classification"
   ]
  },
  {
   "cell_type": "code",
   "execution_count": null,
   "id": "283dfc1f-f78f-417c-9003-9568e40b520c",
   "metadata": {
    "tags": []
   },
   "outputs": [],
   "source": [
    "btx = bt.drop(columns=['FXByggår', 'F14ATempt','F16AntalPlanUnderMark'])\n",
    "btx = btx[(btx['FA11Byggnadstyp'] != 'AnnanVilken') & (btx['FA17AntalTrappuppgangar']<10)] \n",
    "\n",
    "\n",
    "# btx.loc[:, 'FA17AntalTrappuppgangar'] = btx.loc[:, 'FA17AntalTrappuppgangar'].fillna(0)\n",
    "# btx.loc[:, 'FA20Summa'] = btx.loc[:, 'FA20Summa'].fillna(0)\n",
    "# btx.loc[:, 'FA16AntalPlanOvanMark'] = btx.loc[:, 'FA16AntalPlanOvanMark'].fillna(0)\n",
    "# btx.loc[:, 'F16AntalPlanUnderMark'] = btx.loc[:, 'F16AntalPlanUnderMark'].fillna(0)\n",
    "\n",
    "# Separate feature and label\n",
    "x = btx.iloc[:,0:-1]\n",
    "y = btx.iloc[:, -1]\n",
    "\n",
    "# normalization\n",
    "# x = preprocessing.normalize(x)\n",
    "\n",
    "# Separate training set and test set\n",
    "x_train, x_test, y_train, y_test = train_test_split(x, y,test_size=0.25)\n",
    "\n",
    "# Classifier\n",
    "clf = XGBClassifier()\n",
    "# clf = tree.DecisionTreeClassifier(criterion=\"entropy\")\n",
    "# clf = RandomForestClassifier()\n",
    "clf = clf.fit(x_train, y_train)\n",
    "score = clf.score(x_test, y_test)\n",
    "\n",
    "\n",
    "# cross validation\n",
    "# cross_val_score(XGBClassifier(), x, y)\n",
    "cross_val_score(clf, x, y)\n",
    "\n",
    "# clf.predict(x_test)\n",
    "# joblib.dump(clf, 'Buidling_Types_Pre.pkl')"
   ]
  },
  {
   "cell_type": "code",
   "execution_count": null,
   "id": "b99bc533-b546-4657-bb35-e4eae61da63a",
   "metadata": {},
   "outputs": [],
   "source": [
    "# type_name = le.inverse_transform(bt.iloc[:,-1])\n",
    "\n",
    "\n",
    "# plot decision tree\n",
    "from numpy import loadtxt\n",
    "from xgboost import XGBClassifier\n",
    "from xgboost import plot_tree\n",
    "import matplotlib.pyplot as plt\n",
    "import graphviz\n",
    "\n",
    "# plot single tree\n",
    "plot_tree(clf)\n",
    "# plt.show()\n",
    "plt.savefig('Trees for building type.',dpi=1200)"
   ]
  },
  {
   "cell_type": "markdown",
   "id": "0422107f-fb12-406f-88c6-97084815aeca",
   "metadata": {
    "tags": []
   },
   "source": [
    "### Nurual network"
   ]
  },
  {
   "cell_type": "code",
   "execution_count": null,
   "id": "10a6ce08-cf33-4b9a-802a-603c5e444821",
   "metadata": {},
   "outputs": [],
   "source": [
    "x = bt.iloc[:,0:-1]\n",
    "y = bt.iloc[:, -1]\n",
    "\n",
    "sc = StandardScaler()\n",
    "\n",
    "btn = bt\n",
    "btn = btn.drop(columns=['FXByggår'])\n",
    "btn.loc[:, 'FA17AntalTrappuppgangar'] = btn.loc[:, 'FA17AntalTrappuppgangar'].fillna(0)\n",
    "btn.loc[:, 'FA20Summa'] = btn.loc[:, 'FA20Summa'].fillna(0)\n",
    "btn.loc[:, 'FA16AntalPlanOvanMark'] = btn.loc[:, 'FA16AntalPlanOvanMark'].fillna(0)\n",
    "btn.iloc[:, 0:-1] = sc.fit_transform(btn.iloc[:, 0:-1])\n",
    "\n",
    "# Separate feature and label\n",
    "x = btn.iloc[:,0:-1]\n",
    "y = btn.iloc[:, -1]\n",
    "\n",
    "# Separate training set and test set\n",
    "x_train, x_test, y_train, y_test = train_test_split(x, y,test_size=0.2, random_state = 21)\n",
    "\n",
    "def accuracy(confusion_matrix):\n",
    "   diagonal_sum = confusion_matrix.trace()\n",
    "   sum_of_all_elements = confusion_matrix.sum()\n",
    "   return diagonal_sum / sum_of_all_elements"
   ]
  },
  {
   "cell_type": "code",
   "execution_count": null,
   "id": "30778beb-a652-4502-b182-96e30857e2ce",
   "metadata": {},
   "outputs": [],
   "source": [
    "#Importing MLPClassifier\n",
    "from sklearn.neural_network import MLPClassifier\n",
    "\n",
    "#Initializing the MLPClassifier\n",
    "classifier = MLPClassifier(hidden_layer_sizes=(150, 100), \n",
    "                           max_iter=600,\n",
    "                           activation = 'tanh',\n",
    "                           solver='adam',\n",
    "                           random_state=2, \n",
    "                           alpha=0.01)\n",
    "\n",
    "#Fitting the training data to the network\n",
    "classifier.fit(x_train, y_train)\n",
    "\n",
    "\n",
    "#Predicting y for x_test\n",
    "y_pred = classifier.predict(x_test)\n",
    "\n",
    "#Importing Confusion Matrix\n",
    "from sklearn.metrics import confusion_matrix\n",
    "\n",
    "#Comparing the predictions against the actual observations in y_val\n",
    "# cm = confusion_matrix(y_pred, y_test)\n",
    "\n",
    "cross_val_score(classifier, x, y)\n",
    "\n",
    "#Printing the accuracy\n",
    "# print(\"Accuracy of MLPClassifier: \", accuracy(cm))"
   ]
  },
  {
   "cell_type": "code",
   "execution_count": null,
   "id": "185f0741-a0d4-4cee-a68c-dec6a18927bc",
   "metadata": {},
   "outputs": [],
   "source": []
  }
 ],
 "metadata": {
  "kernelspec": {
   "display_name": "Python 3 (ipykernel)",
   "language": "python",
   "name": "python3"
  },
  "language_info": {
   "codemirror_mode": {
    "name": "ipython",
    "version": 3
   },
   "file_extension": ".py",
   "mimetype": "text/x-python",
   "name": "python",
   "nbconvert_exporter": "python",
   "pygments_lexer": "ipython3",
   "version": "3.10.4"
  }
 },
 "nbformat": 4,
 "nbformat_minor": 5
}
